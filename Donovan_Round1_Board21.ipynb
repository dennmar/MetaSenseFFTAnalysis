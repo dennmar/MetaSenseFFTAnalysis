{
 "cells": [
  {
   "cell_type": "markdown",
   "metadata": {},
   "source": [
    "# Donovan Round 1 Board 21"
   ]
  },
  {
   "cell_type": "code",
   "execution_count": 1,
   "metadata": {},
   "outputs": [],
   "source": [
    "from interactive_fft_grapher import graph_fft, get_fig_num\n",
    "RAW_DATA_DIR = '/mnt/d/Internships/RawDataCSVs/'\n",
    "%matplotlib notebook"
   ]
  },
  {
   "cell_type": "code",
   "execution_count": null,
   "metadata": {},
   "outputs": [],
   "source": [
    "graph_fft(RAW_DATA_DIR, 'Donovan', 1, 21, 'No2WmV', None, get_fig_num())"
   ]
  },
  {
   "cell_type": "code",
   "execution_count": null,
   "metadata": {},
   "outputs": [],
   "source": [
    "graph_fft(RAW_DATA_DIR, 'Donovan', 1, 21, 'No2AmV', None, get_fig_num())"
   ]
  },
  {
   "cell_type": "code",
   "execution_count": null,
   "metadata": {},
   "outputs": [],
   "source": [
    "graph_fft(RAW_DATA_DIR, 'Donovan', 1, 21, 'OxWmV', None, get_fig_num())"
   ]
  },
  {
   "cell_type": "code",
   "execution_count": null,
   "metadata": {},
   "outputs": [],
   "source": [
    "graph_fft(RAW_DATA_DIR, 'Donovan', 1, 21, 'OxAmV', None, get_fig_num())"
   ]
  },
  {
   "cell_type": "code",
   "execution_count": null,
   "metadata": {},
   "outputs": [],
   "source": [
    "graph_fft(RAW_DATA_DIR, 'Donovan', 1, 21, 'CoWmV', None, get_fig_num())"
   ]
  },
  {
   "cell_type": "code",
   "execution_count": null,
   "metadata": {},
   "outputs": [],
   "source": [
    "graph_fft(RAW_DATA_DIR, 'Donovan', 1, 21, 'CoAmV', None, get_fig_num())"
   ]
  }
 ],
 "metadata": {
  "kernelspec": {
   "display_name": "Python 3",
   "language": "python",
   "name": "python3"
  },
  "language_info": {
   "codemirror_mode": {
    "name": "ipython",
    "version": 3
   },
   "file_extension": ".py",
   "mimetype": "text/x-python",
   "name": "python",
   "nbconvert_exporter": "python",
   "pygments_lexer": "ipython3",
   "version": "3.6.4"
  }
 },
 "nbformat": 4,
 "nbformat_minor": 2
}
